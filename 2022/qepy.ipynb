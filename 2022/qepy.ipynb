{
 "cells": [
  {
   "cell_type": "code",
   "execution_count": null,
   "metadata": {
    "id": "1PNPJIFyutM1"
   },
   "outputs": [],
   "source": [
    "!sudo apt-get update"
   ]
  },
  {
   "cell_type": "code",
   "execution_count": null,
   "metadata": {
    "id": "25V7P-HRuw6y"
   },
   "outputs": [],
   "source": [
    "!sudo apt-get install --upgrade gcc gfortran libblas-dev liblapack-dev libopenmpi-dev libfftw3-dev"
   ]
  },
  {
   "cell_type": "code",
   "execution_count": null,
   "metadata": {
    "colab": {
     "base_uri": "https://localhost:8080/"
    },
    "id": "9aUWvehCu8cn",
    "outputId": "a0047ba1-be95-4dfa-c2d9-63dea71cd25a"
   },
   "outputs": [],
   "source": [
    "!wget https://gitlab.com/QEF/q-e/-/archive/qe-6.5/q-e-qe-6.5.tar.gz"
   ]
  },
  {
   "cell_type": "code",
   "execution_count": null,
   "metadata": {
    "colab": {
     "base_uri": "https://localhost:8080/"
    },
    "id": "tt4_sV7RvHzc",
    "outputId": "115b0211-e6fa-4774-8d82-7bf732a6f298"
   },
   "outputs": [],
   "source": [
    "!tar -xzvf q-e-qe-6.5.tar.gz"
   ]
  },
  {
   "cell_type": "code",
   "execution_count": null,
   "metadata": {
    "colab": {
     "base_uri": "https://localhost:8080/"
    },
    "id": "BmaVtQePvLqt",
    "outputId": "d8c56cea-34a4-4896-810f-277cac2f19ac"
   },
   "outputs": [],
   "source": [
    "!cd q-e-qe-6.5; ./configure CFLAGS=-fPIC FFLAGS=-fPIC try_foxflags=-fPIC MPIF90=mpif90 --with-scalapack=no BLAS_LIBS='-lblas' LAPACK_LIBS='-llapack' "
   ]
  },
  {
   "cell_type": "code",
   "execution_count": null,
   "metadata": {
    "colab": {
     "base_uri": "https://localhost:8080/"
    },
    "id": "XjxW3MmywJRE",
    "outputId": "674d6751-4e75-49ee-8492-5214c9902e0f"
   },
   "outputs": [],
   "source": [
    "!cd q-e-qe-6.5; make pw"
   ]
  },
  {
   "cell_type": "code",
   "execution_count": null,
   "metadata": {
    "colab": {
     "base_uri": "https://localhost:8080/"
    },
    "id": "V_kfXQDfvVbJ",
    "outputId": "6c71a871-4018-412a-be5d-092be6c462ca"
   },
   "outputs": [],
   "source": [
    "!sudo apt-get install patchelf"
   ]
  },
  {
   "cell_type": "code",
   "execution_count": null,
   "metadata": {
    "id": "MalmAafCxlkM"
   },
   "outputs": [],
   "source": [
    "!prefix=\"/usr/lib/x86_64-linux-gnu/openmpi\"; for filename in $(ls $prefix/lib/openmpi/*.so); do patchelf --add-needed libmpi.so.20 $filename; patchelf --set-rpath \"\\$ORIGIN/..\" $filename; done"
   ]
  },
  {
   "cell_type": "code",
   "execution_count": null,
   "metadata": {
    "colab": {
     "base_uri": "https://localhost:8080/"
    },
    "id": "sQmBjzKcx0Vo",
    "outputId": "472b6058-3ed5-42f3-e726-d4311a18ffaa"
   },
   "outputs": [],
   "source": [
    "!git clone --recurse-submodules https://gitlab.com/shaoxc/qepy.git"
   ]
  },
  {
   "cell_type": "code",
   "execution_count": null,
   "metadata": {
    "colab": {
     "base_uri": "https://localhost:8080/"
    },
    "id": "GJX-5S6wx4yN",
    "outputId": "0f394623-ed90-45bf-89f4-75f4e5a51fe1"
   },
   "outputs": [],
   "source": [
    "!qedir=/content/q-e-qe-6.5/ python -m pip install -U ./qepy"
   ]
  },
  {
   "cell_type": "code",
   "execution_count": null,
   "metadata": {
    "colab": {
     "base_uri": "https://localhost:8080/"
    },
    "id": "e7GnmkjIpK_A",
    "outputId": "68fdecd1-bd6f-4254-f2fa-c151e91aa137"
   },
   "outputs": [],
   "source": [
    "!wget http://www.quantum-simulation.org/potentials/sg15_oncv/upf/Al_ONCV_PBE-1.2.upf ."
   ]
  },
  {
   "cell_type": "code",
   "execution_count": null,
   "metadata": {
    "id": "Q7Lmas0iyXwB"
   },
   "outputs": [],
   "source": [
    "from qepy.driver import Driver\n",
    "from qepy.io import QEInput"
   ]
  },
  {
   "cell_type": "code",
   "execution_count": null,
   "metadata": {
    "id": "Bp3rYL7wzGkz"
   },
   "outputs": [],
   "source": [
    "qe_options = {\n",
    "    '&control': {\n",
    "        'calculation': \"'scf'\",\n",
    "        'prefix': \"'Al'\",\n",
    "        'pseudo_dir': \"'./'\",\n",
    "        'restart_mode': \"'from_scratch'\"},\n",
    "    '&system': {\n",
    "        'ibrav' : 0,\n",
    "        'degauss': 0.005,\n",
    "        'ecutwfc': 30,\n",
    "        'nat': 1,\n",
    "        'ntyp': 1,\n",
    "        'occupations': \"'smearing'\"},\n",
    "    'atomic_positions crystal': ['Al    0.0  0.0  0.0'],\n",
    "    'atomic_species': ['Al  26.98 Al_ONCV_PBE-1.2.upf'],\n",
    "    'k_points automatic': ['2 2 2 0 0 0'],\n",
    "    'cell_parameters angstrom':[\n",
    "        '0.     2.025  2.025',\n",
    "        '2.025  0.     2.025',\n",
    "        '2.025  2.025  0.   '],\n",
    "}"
   ]
  },
  {
   "cell_type": "code",
   "execution_count": null,
   "metadata": {
    "id": "na03LxiC0mNA"
   },
   "outputs": [],
   "source": [
    "driver=Driver(qe_options=qe_options, logfile=True)"
   ]
  },
  {
   "cell_type": "code",
   "execution_count": null,
   "metadata": {
    "colab": {
     "base_uri": "https://localhost:8080/"
    },
    "id": "s0erJtZHyzVq",
    "outputId": "b8c355b1-d754-4728-ee0f-abe47972601a"
   },
   "outputs": [],
   "source": [
    "driver.scf()"
   ]
  },
  {
   "cell_type": "code",
   "execution_count": null,
   "metadata": {
    "id": "w3dus6YMy6sS"
   },
   "outputs": [],
   "source": [
    "driver.stop()"
   ]
  },
  {
   "cell_type": "code",
   "execution_count": null,
   "metadata": {
    "colab": {
     "base_uri": "https://localhost:8080/"
    },
    "id": "yW6CQwFY55qD",
    "outputId": "b4816efe-0415-432d-a164-c988be864893"
   },
   "outputs": [],
   "source": [
    "!pip install ase"
   ]
  },
  {
   "cell_type": "code",
   "execution_count": null,
   "metadata": {
    "id": "luDxx6L317XH"
   },
   "outputs": [],
   "source": [
    "from ase.build import bulk\n",
    "atoms = bulk('Al', 'fcc', a=4.05)"
   ]
  },
  {
   "cell_type": "code",
   "execution_count": null,
   "metadata": {
    "id": "i7oJ_q4MqMcF"
   },
   "outputs": [],
   "source": [
    "atoms.set_cell(atoms.cell*1.1)"
   ]
  },
  {
   "cell_type": "code",
   "execution_count": null,
   "metadata": {
    "id": "ah-aTo3z53vb"
   },
   "outputs": [],
   "source": [
    "qe_options = QEInput().update_atoms(atoms=atoms, qe_options=qe_options)"
   ]
  },
  {
   "cell_type": "code",
   "execution_count": null,
   "metadata": {
    "id": "omcA61Mb6K7n"
   },
   "outputs": [],
   "source": [
    "driver=Driver(qe_options=qe_options, logfile=True)\n",
    "energy = driver.scf()\n",
    "driver.stop()"
   ]
  },
  {
   "cell_type": "code",
   "execution_count": null,
   "metadata": {
    "colab": {
     "base_uri": "https://localhost:8080/"
    },
    "id": "c8YPWWYUq-Jp",
    "outputId": "6e74d4de-1090-48cf-d46e-155191f76d2c"
   },
   "outputs": [],
   "source": [
    "energy"
   ]
  },
  {
   "cell_type": "code",
   "execution_count": null,
   "metadata": {
    "id": "8_54RH4zqbvV"
   },
   "outputs": [],
   "source": [
    "qe_options['&system']['ecutwfc']=40"
   ]
  },
  {
   "cell_type": "code",
   "execution_count": null,
   "metadata": {
    "id": "5xN2xxlsql5c"
   },
   "outputs": [],
   "source": [
    "driver=Driver(qe_options=qe_options, logfile=True)"
   ]
  },
  {
   "cell_type": "code",
   "execution_count": null,
   "metadata": {
    "id": "J85lX3HsqsIk"
   },
   "outputs": [],
   "source": [
    "output=driver.get_output();"
   ]
  },
  {
   "cell_type": "code",
   "execution_count": null,
   "metadata": {
    "colab": {
     "base_uri": "https://localhost:8080/"
    },
    "id": "Yjl02gOXqqC3",
    "outputId": "3065f9b1-7c6d-40da-9b6f-f6491b860839"
   },
   "outputs": [],
   "source": [
    "energy = driver.scf()\n",
    "driver.stop()\n",
    "print(energy)"
   ]
  }
 ],
 "metadata": {
  "colab": {
   "collapsed_sections": [],
   "include_colab_link": true,
   "name": "qepy.ipynb",
   "provenance": []
  },
  "kernelspec": {
   "display_name": "Python 3 (ipykernel)",
   "language": "python",
   "name": "python3"
  },
  "language_info": {
   "codemirror_mode": {
    "name": "ipython",
    "version": 3
   },
   "file_extension": ".py",
   "mimetype": "text/x-python",
   "name": "python",
   "nbconvert_exporter": "python",
   "pygments_lexer": "ipython3",
   "version": "3.10.4"
  }
 },
 "nbformat": 4,
 "nbformat_minor": 1
}
