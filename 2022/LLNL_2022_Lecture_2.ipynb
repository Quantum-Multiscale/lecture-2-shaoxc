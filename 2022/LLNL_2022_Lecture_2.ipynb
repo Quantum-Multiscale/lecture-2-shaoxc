{
 "cells": [
  {
   "cell_type": "code",
   "execution_count": 1,
   "id": "bb7cb1c6",
   "metadata": {
    "code_folding": [],
    "hide_input": false,
    "slideshow": {
     "slide_type": "skip"
    }
   },
   "outputs": [],
   "source": [
    "#hidden cell to be executed BEFORE the presentation\n",
    "import warnings\n",
    "warnings.filterwarnings('ignore')\n",
    "import sys\n",
    "path_dftpy = './dftpy/src' # If DFTpy is not in PYTHONPATH, change it to the path of where dftpy/src is located.\n",
    "path_qepy = './qepy/qepy'\n",
    "sys.path.insert(0, path_dftpy)\n",
    "#sys.path.insert(0, path_qepy)\n",
    "import numpy as np\n",
    "import matplotlib.pyplot as plt\n",
    "from dftpy.ions import Ions\n",
    "from dftpy.field import DirectField\n",
    "from dftpy.grid import DirectGrid\n",
    "from dftpy.functional import LocalPseudo, Functional, TotalFunctional\n",
    "from dftpy.formats import io\n",
    "from dftpy.math_utils import ecut2nr\n",
    "from dftpy.time_data import TimeData\n",
    "from dftpy.optimization import Optimization\n",
    "from dftpy.mpi import sprint\n",
    "from IPython.lib.display import YouTubeVideo\n",
    "file1='Al_lda.oe01.recpot'\n",
    "PP_list = {'Al': './dftpy/examples/DATA/'+file1}"
   ]
  },
  {
   "cell_type": "code",
   "execution_count": 2,
   "id": "919b52a8",
   "metadata": {
    "hide_input": false,
    "slideshow": {
     "slide_type": "skip"
    }
   },
   "outputs": [
    {
     "name": "stdout",
     "output_type": "stream",
     "text": [
      "Done with preambles\n"
     ]
    }
   ],
   "source": [
    "#hidden cell to be executed BEFORE the presentation\n",
    "from ase_notebook import AseView, ViewConfig\n",
    "config = ViewConfig()\n",
    "ase_view = AseView(config)\n",
    "ase_view = AseView(\n",
    "    rotations=\"45x,45y,45z\",\n",
    "    atom_font_size=16,\n",
    "    axes_length=30,\n",
    "    canvas_size=(700, 300),\n",
    "    zoom=1.2,\n",
    "    show_bonds=True\n",
    ")\n",
    "ase_view.config.uc_dash_pattern=(.6,.4)\n",
    "#ase_view.add_miller_plane(\n",
    "#    1, 0, 0, color=\"green\")\n",
    "ase_view.config\n",
    "ase_view.config.canvas_color_background = \"blue\"\n",
    "ase_view.config.canvas_background_opacity = 0.2\n",
    "\n",
    "def view (ions):\n",
    "    gui = ase_view.make_render(\n",
    "    ions, center_in_uc=True)\n",
    "    return gui\n",
    "from ase.build import bulk\n",
    "atoms = bulk('Al', 'fcc', a=4.05, cubic=True)\n",
    "ions = Ions.from_ase(atoms)\n",
    "gui=view(ions)\n",
    "gui\n",
    "print('Done with preambles')"
   ]
  },
  {
   "cell_type": "markdown",
   "id": "7d9a999c",
   "metadata": {
    "slideshow": {
     "slide_type": "slide"
    }
   },
   "source": [
    "<center>\n",
    "    <h1>The (almost) all-Python DFTpy and QEpy softwares</h1>\n",
    "<center>\n",
    "<br>\n",
    "<table>\n",
    "  <tr>\n",
    "      <td><p><h1>Pavanello Research Group</h1></p><p><h2>Rutgers University-Newark</h2></p></td>\n",
    "      <td><img src=\"figures/logos/run.png\" width=200 height=200 /></td>\n",
    "  </tr>\n",
    "  <tr>\n",
    "    <td></td>\n",
    "    <td> http://prg.rutgers.edu</td>\n",
    "  </tr>\n",
    "</table>\n",
    "\n",
    "#### LLNL Computational Chemistry & Materials Science Summer Institute -- July 26, 2022\n"
   ]
  },
  {
   "cell_type": "markdown",
   "id": "4574d14c",
   "metadata": {
    "slideshow": {
     "slide_type": "slide"
    }
   },
   "source": [
    "# Learning Goals\n",
    "\n",
    "#### Theory and techniques\n",
    "\n",
    "<div class=\"alert alert-block alert-success\">\n",
    "    <h4>Understand the theory of DFT</h4>\n",
    "    <ul>\n",
    "        <li> Orbital-free DFT</li>\n",
    "        <li> Kohn-Sham DFT</li>\n",
    "    </ul>\n",
    "    <p style=\"text-align: center;\"><small>Work individually or in groups. Time: 30'</small></p>\n",
    "</div>\n",
    "\n",
    "<div class=\"alert alert-block alert-success\">\n",
    "    <h4>GitHub and Google Colaboratory</h4>\n",
    "    <ul>\n",
    "        <li> Track your work with Git (GitLab, GitHub)</li>\n",
    "        <li> Jupyter Notebooks on the Google Colaboratory \"colab\" </li>\n",
    "    </ul>\n",
    "    <p style=\"text-align: center;\"><small>Work individually. Time: 15'</small></p>\n",
    "</div>\n",
    "\n",
    "\n"
   ]
  },
  {
   "cell_type": "markdown",
   "id": "2c871775",
   "metadata": {},
   "source": [
    "# Learning Goals\n",
    "\n",
    "####  Coding\n",
    "\n",
    "\n",
    "<div class=\"alert alert-block alert-danger\">\n",
    "    <h4>Be able to run simulations... in Python</h4>\n",
    "    <ul>\n",
    "        <li> Orbital-free DFT with DFTpy</li>\n",
    "        <li> Plot results with matplotlib</li>\n",
    "        <li> Make your own $T_s[n]$! </li>\n",
    "    </ul>\n",
    "    <p style=\"text-align: center;\"><small>Work individually or in groups. Time: 30'</small></p>\n",
    "</div>\n",
    "\n",
    "<div class=\"alert alert-block alert-danger\">\n",
    "    <h4>Kohn-Sham DFT</h4>\n",
    "    <ul>\n",
    "        <li> Kohn-Sham DFT with QEpy</li>\n",
    "        <li> Make your own $E_{xc}[n]$! </li>\n",
    "    </ul>\n",
    "    <p style=\"text-align: center;\"><small>Work individually or in groups. Time: 45'</small></p>\n",
    "</div>"
   ]
  },
  {
   "cell_type": "markdown",
   "id": "c7583f90",
   "metadata": {
    "slideshow": {
     "slide_type": "subslide"
    }
   },
   "source": [
    "\n",
    "# Ready to get back to work?\n",
    "\n",
    "<div class=\"alert alert-block alert-success\">\n",
    "    <center><b><a href=\"https://classroom.github.com/a/mGGwwsKj\">Lecture 2 assignment</a></b></center>\n",
    "    </div>"
   ]
  },
  {
   "cell_type": "markdown",
   "id": "a3f8f5ef",
   "metadata": {
    "slideshow": {
     "slide_type": "slide"
    }
   },
   "source": [
    "# Understand the Theory of DFT\n",
    "#### Challenge\n",
    "\n",
    "- Write down the Kohn-Sham DFT energy density functional."
   ]
  },
  {
   "cell_type": "markdown",
   "id": "c02cbd99",
   "metadata": {
    "slideshow": {
     "slide_type": "fragment"
    }
   },
   "source": [
    "$$\n",
    "E[n]=\\ldots\n",
    "$$"
   ]
  },
  {
   "cell_type": "markdown",
   "id": "3c7b774c",
   "metadata": {
    "slideshow": {
     "slide_type": "slide"
    }
   },
   "source": [
    "### ...understand the Theory of DFT\n",
    "- What is the difference between the noninteracting kinetic energy functional, $T_s[n]$, and the total kinetic energy, $T[n]$?\n"
   ]
  },
  {
   "cell_type": "markdown",
   "id": "59f17548",
   "metadata": {
    "slideshow": {
     "slide_type": "fragment"
    }
   },
   "source": []
  },
  {
   "cell_type": "markdown",
   "id": "960507b2",
   "metadata": {
    "slideshow": {
     "slide_type": "slide"
    }
   },
   "source": [
    "### ...understand the Theory of DFT\n",
    "- Write down an expression for $T_s[n]$ for a uniform electron gas system in terms of its KS orbitals, $\\Psi_i(\\mathbf{r})=\\frac{1}{\\Omega^{1/2}}e^{i\\mathbf{k}_i\\cdot\\mathbf{r}}$.\n"
   ]
  },
  {
   "cell_type": "markdown",
   "id": "136c37bc",
   "metadata": {
    "slideshow": {
     "slide_type": "slide"
    }
   },
   "source": []
  },
  {
   "cell_type": "markdown",
   "id": "0c9e5867",
   "metadata": {
    "slideshow": {
     "slide_type": "slide"
    }
   },
   "source": [
    "### ...understand the Theory of DFT\n",
    "- Be ready to discuss it with others or with the class."
   ]
  },
  {
   "cell_type": "markdown",
   "id": "b55b2b79",
   "metadata": {
    "slideshow": {
     "slide_type": "fragment"
    }
   },
   "source": [
    "Write here your discussion points"
   ]
  },
  {
   "cell_type": "markdown",
   "id": "682ca1f9",
   "metadata": {
    "slideshow": {
     "slide_type": "slide"
    }
   },
   "source": [
    "# Git and GitHub\n",
    "\n",
    "- Did you use Git and/or GitHub before? (show hands)\n",
    "- ...if not, pair with another student who has worked with Git/GitHub before\n",
    "- Sign in/up GitHub\n",
    "- Share your GitHub handle with me. I will add you as \"student\" to a GitHub Classroom.\n",
    "\n",
    "<div class=\"alert alert-block alert-success\">\n",
    "    <center><b><a href=\"https://classroom.github.com/a/KD3e2KGA\">GitHub tutorial</a></b></center>\n",
    "    </div>"
   ]
  },
  {
   "cell_type": "markdown",
   "id": "4fa76731",
   "metadata": {
    "slideshow": {
     "slide_type": "slide"
    }
   },
   "source": [
    "# Google colaboratory (colab)\n",
    "\n",
    "<div class=\"alert alert-block alert-success\">\n",
    "    <center><b><a href=\"https://colab.research.google.com/\">https://colab.research.google.com/</a></b></center>\n",
    "    </div>\n",
    "    \n",
    "- Free and easy to use Jupyter Notebook\n",
    "- You can run both DFTpy and QEpy with it\n",
    "- Hit \"new notebook\" (lower right)\n"
   ]
  },
  {
   "cell_type": "markdown",
   "id": "455253ff",
   "metadata": {
    "slideshow": {
     "slide_type": "fragment"
    }
   },
   "source": [
    "#### Challenge\n",
    "- Write a minimal code in a \"colab\" notebook\n",
    "- Verify that it runs and produces the desired output\n",
    "- Reproduce (paste) the code in this notebook \n",
    "- Paste here a link to your new colab notebook in a separate markdown cell"
   ]
  },
  {
   "cell_type": "markdown",
   "id": "75f7b891",
   "metadata": {
    "slideshow": {
     "slide_type": "subslide"
    }
   },
   "source": [
    "##### for example:"
   ]
  },
  {
   "cell_type": "code",
   "execution_count": 3,
   "id": "051bf0e6",
   "metadata": {
    "slideshow": {
     "slide_type": "fragment"
    }
   },
   "outputs": [
    {
     "name": "stdout",
     "output_type": "stream",
     "text": [
      "Riding around...\n",
      "1 times,\n",
      "2 times,\n",
      "3 times,\n",
      "4 times,\n",
      "5 times,\n",
      "Happy to ride!\n"
     ]
    }
   ],
   "source": [
    "print('Riding around...')\n",
    "for i in range(5):\n",
    "    print(str(i+1)+' times,')\n",
    "print('Happy to ride!')"
   ]
  },
  {
   "cell_type": "markdown",
   "id": "74a24adf",
   "metadata": {
    "slideshow": {
     "slide_type": "slide"
    }
   },
   "source": [
    "# Let's run simulations on colab\n",
    "\n",
    " - Prepare a new, empty notebook on the colab\n",
    " - visualize `dftpy.ipynb` from LLNL-2-yourname\n",
    " - Cut and paste the content of each cell in the colab notebook\n",
    " - run it!"
   ]
  },
  {
   "cell_type": "markdown",
   "id": "0eabd70e",
   "metadata": {
    "slideshow": {
     "slide_type": "slide"
    }
   },
   "source": [
    "# Understanding the `dftpy.ipynb` notebook"
   ]
  },
  {
   "cell_type": "markdown",
   "id": "e2fe9d3b",
   "metadata": {
    "slideshow": {
     "slide_type": "fragment"
    }
   },
   "source": [
    "### First a model system of bulk Al (cubic cell) is generated with `ASE`"
   ]
  },
  {
   "cell_type": "code",
   "execution_count": 4,
   "id": "c96b8edc",
   "metadata": {
    "scrolled": true,
    "slideshow": {
     "slide_type": "fragment"
    }
   },
   "outputs": [],
   "source": [
    "from ase.build import bulk\n",
    "atoms = bulk('Al', 'fcc', a=4.05, cubic=True)"
   ]
  },
  {
   "cell_type": "code",
   "execution_count": 5,
   "id": "2ee1a00e",
   "metadata": {
    "slideshow": {
     "slide_type": "fragment"
    }
   },
   "outputs": [],
   "source": [
    "ions = Ions.from_ase(atoms)"
   ]
  },
  {
   "cell_type": "markdown",
   "id": "3e8a61fd",
   "metadata": {
    "slideshow": {
     "slide_type": "fragment"
    }
   },
   "source": [
    "<div class=\"alert alert-block alert-success\">\n",
    "    <b>Understand more deeply:</b>\n",
    "    Try a different bulk symmetry (bcc?) or make a surface. Visualize the structures.\n",
    "    </div>"
   ]
  },
  {
   "cell_type": "code",
   "execution_count": 6,
   "id": "8d46cdaf",
   "metadata": {
    "slideshow": {
     "slide_type": "fragment"
    }
   },
   "outputs": [
    {
     "data": {
      "image/png": "[encoded data removed]",
      "text/plain": [
       "<IPython.core.display.Image object>"
      ]
     },
     "execution_count": 6,
     "metadata": {},
     "output_type": "execute_result"
    }
   ],
   "source": [
    "from ase.io import write\n",
    "write('image.png', atoms)\n",
    "from IPython.display import Image\n",
    "Image('image.png')"
   ]
  },
  {
   "cell_type": "markdown",
   "id": "e1ba6cb4",
   "metadata": {
    "slideshow": {
     "slide_type": "slide"
    }
   },
   "source": [
    "# Let's try other systems\n",
    "#### Surfaces?"
   ]
  },
  {
   "cell_type": "code",
   "execution_count": 7,
   "id": "a57ecca0",
   "metadata": {
    "slideshow": {
     "slide_type": "fragment"
    }
   },
   "outputs": [
    {
     "data": {
      "application/vnd.jupyter.widget-view+json": {
       "model_id": "c210cb47b6fa44388c72a7eac208a4d9",
       "version_major": 2,
       "version_minor": 0
      },
      "text/plain": [
       "GridspecLayout(children=(Renderer(camera=PerspectiveCamera(aspect=2.3333333333333335, fov=10.0, position=(0.0,…"
      ]
     },
     "metadata": {},
     "output_type": "display_data"
    }
   ],
   "source": [
    "from ase.build import fcc111\n",
    "atoms = fcc111('Al', size=(2,2,3), vacuum=10.0)\n",
    "view(atoms)"
   ]
  },
  {
   "cell_type": "markdown",
   "id": "5e41b563",
   "metadata": {
    "slideshow": {
     "slide_type": "subslide"
    }
   },
   "source": [
    "#### The FFT grid"
   ]
  },
  {
   "cell_type": "code",
   "execution_count": 8,
   "id": "c5558268",
   "metadata": {
    "slideshow": {
     "slide_type": "fragment"
    }
   },
   "outputs": [],
   "source": [
    "nr = ecut2nr(ecut=35, lattice=ions.cell)"
   ]
  },
  {
   "cell_type": "code",
   "execution_count": 9,
   "id": "36015ada",
   "metadata": {
    "slideshow": {
     "slide_type": "fragment"
    }
   },
   "outputs": [],
   "source": [
    "grid = DirectGrid(lattice=ions.cell, nr=nr)"
   ]
  },
  {
   "cell_type": "markdown",
   "id": "5f0e2bb3",
   "metadata": {
    "slideshow": {
     "slide_type": "subslide"
    }
   },
   "source": [
    "#### Local pseudopotential (external potential)"
   ]
  },
  {
   "cell_type": "code",
   "execution_count": 10,
   "id": "9d04ee69",
   "metadata": {
    "slideshow": {
     "slide_type": "fragment"
    }
   },
   "outputs": [
    {
     "name": "stdout",
     "output_type": "stream",
     "text": [
      "setting key: Al -> ./dftpy/examples/DATA/Al_lda.oe01.recpot\n"
     ]
    }
   ],
   "source": [
    "PSEUDO = LocalPseudo(grid = grid, ions=ions, PP_list=PP_list)"
   ]
  },
  {
   "cell_type": "markdown",
   "id": "909c2986",
   "metadata": {
    "slideshow": {
     "slide_type": "subslide"
    }
   },
   "source": [
    "#### Initial guess for the electron density"
   ]
  },
  {
   "cell_type": "code",
   "execution_count": 11,
   "id": "38e7eea2",
   "metadata": {
    "slideshow": {
     "slide_type": "fragment"
    }
   },
   "outputs": [],
   "source": [
    "rho_ini = DirectField(grid=grid)\n",
    "rho_ini[:] = ions.get_ncharges()/ions.cell.volume"
   ]
  },
  {
   "cell_type": "markdown",
   "id": "cb0f49bb",
   "metadata": {
    "slideshow": {
     "slide_type": "subslide"
    }
   },
   "source": [
    "#### The $E_H[n]$ and $E_{xc}[n]$ functionals"
   ]
  },
  {
   "cell_type": "code",
   "execution_count": 12,
   "id": "4860d67b",
   "metadata": {
    "slideshow": {
     "slide_type": "fragment"
    }
   },
   "outputs": [],
   "source": [
    "HARTREE = Functional(type='HARTREE')\n",
    "XC = Functional(type='XC',name='LDA')"
   ]
  },
  {
   "cell_type": "markdown",
   "id": "e2324313",
   "metadata": {
    "slideshow": {
     "slide_type": "subslide"
    }
   },
   "source": [
    "#### The $T_s[n]$ functional"
   ]
  },
  {
   "cell_type": "code",
   "execution_count": 13,
   "id": "7ddf262a",
   "metadata": {
    "slideshow": {
     "slide_type": "fragment"
    }
   },
   "outputs": [],
   "source": [
    "KE = Functional(type='KEDF',name='x_TF_y_vW')"
   ]
  },
  {
   "cell_type": "markdown",
   "id": "ff0d2d91",
   "metadata": {
    "slideshow": {
     "slide_type": "subslide"
    }
   },
   "source": [
    "#### The total energy, $E[n]$, functional"
   ]
  },
  {
   "cell_type": "code",
   "execution_count": 14,
   "id": "7edffe96",
   "metadata": {
    "slideshow": {
     "slide_type": "fragment"
    }
   },
   "outputs": [],
   "source": [
    "evaluator = TotalFunctional(KE=KE, XC=XC, HARTREE=HARTREE, PSEUDO=PSEUDO)"
   ]
  },
  {
   "cell_type": "markdown",
   "id": "415500a6",
   "metadata": {
    "slideshow": {
     "slide_type": "slide"
    }
   },
   "source": [
    "### Minimize $E[n]-\\mu \\left[\\int n(\\mathbf{r}) d\\mathbf{r} -N \\right]$"
   ]
  },
  {
   "cell_type": "code",
   "execution_count": 15,
   "id": "f144c0f8",
   "metadata": {
    "slideshow": {
     "slide_type": "fragment"
    }
   },
   "outputs": [
    {
     "name": "stdout",
     "output_type": "stream",
     "text": [
      "Step    Energy(a.u.)            dE              dP              Nd      Nls     Time(s)         \n",
      "0       2.692153511701E+00      2.692154E+00    7.877088E-01    1       1       1.625466E-02    \n",
      "1       2.509905170133E+00      -1.822483E-01   7.033209E-02    2       1       4.054141E-02    \n",
      "2       2.502273081151E+00      -7.632089E-03   4.803541E-03    7       1       7.412481E-02    \n",
      "3       2.502030159514E+00      -2.429216E-04   3.640538E-04    5       1       9.816265E-02    \n",
      "4       2.501995243614E+00      -3.491590E-05   3.590721E-05    6       1       1.264527E-01    \n",
      "#### Density Optimization Converged ####\n",
      "Chemical potential (a.u.): 0.3011459393991195\n",
      "Chemical potential (eV)  : 8.19459762474792\n"
     ]
    }
   ],
   "source": [
    "optimization_options = {'econv' : 1e-3*ions.nat}\n",
    "opt = Optimization(EnergyEvaluator=evaluator, optimization_options = optimization_options,\n",
    "        optimization_method = 'TN')\n",
    "rho = opt.optimize_rho(guess_rho=rho_ini)"
   ]
  },
  {
   "cell_type": "code",
   "execution_count": 16,
   "id": "5bbc5834",
   "metadata": {},
   "outputs": [
    {
     "data": {
      "image/png": "[encoded data removed]",
      "text/plain": [
       "<Figure size 432x288 with 1 Axes>"
      ]
     },
     "metadata": {
      "needs_background": "light"
     },
     "output_type": "display_data"
    }
   ],
   "source": [
    "from dftpy.visualize import view as viewd\n",
    "%matplotlib inline\n",
    "viewd(data=rho)"
   ]
  },
  {
   "cell_type": "markdown",
   "id": "4c8f4185",
   "metadata": {
    "slideshow": {
     "slide_type": "slide"
    }
   },
   "source": [
    "# Challenge\n",
    "- make a new notebook on the colab\n",
    "- build a bulk FCC Al\n",
    "- determine the total energy for lattice constant from $a=2$&#8491; to $a=6$&#8491; over 10 points.\n",
    "- plot the energy vs. $a$ "
   ]
  },
  {
   "cell_type": "markdown",
   "id": "4184e343",
   "metadata": {
    "slideshow": {
     "slide_type": "fragment"
    }
   },
   "source": [
    "#### Tip"
   ]
  },
  {
   "cell_type": "code",
   "execution_count": 17,
   "id": "81429f53",
   "metadata": {},
   "outputs": [
    {
     "name": "stdout",
     "output_type": "stream",
     "text": [
      "2.0\n",
      "2.4444444444444446\n",
      "2.888888888888889\n",
      "3.333333333333333\n",
      "3.7777777777777777\n",
      "4.222222222222222\n",
      "4.666666666666666\n",
      "5.111111111111111\n",
      "5.555555555555555\n",
      "6.0\n"
     ]
    }
   ],
   "source": [
    "for i in range(10):\n",
    "    aloop=2+(6-2)/9*i\n",
    "    print(aloop)\n",
    "    # insert here the DFTpy code!!!"
   ]
  },
  {
   "cell_type": "markdown",
   "id": "ce76d5fe",
   "metadata": {
    "slideshow": {
     "slide_type": "slide"
    }
   },
   "source": [
    "# New goal: KS-DFT in Python\n",
    "- run Quantum ESPRESSO with the Python interface QEpy\n",
    "- do it on the colab!\n",
    "- check out the `qepy.ipynb` notebook "
   ]
  },
  {
   "cell_type": "markdown",
   "id": "a5187cde",
   "metadata": {
    "slideshow": {
     "slide_type": "slide"
    }
   },
   "source": [
    "# Understanding the `qepy.ipynb` notebook"
   ]
  },
  {
   "cell_type": "markdown",
   "id": "ef92a180",
   "metadata": {
    "slideshow": {
     "slide_type": "fragment"
    }
   },
   "source": [
    "#### QEpy driver: Python driver class for Quantum ESPRESSO\n",
    "This is the main QEpy class"
   ]
  },
  {
   "cell_type": "code",
   "execution_count": 1,
   "id": "8b725993",
   "metadata": {
    "slideshow": {
     "slide_type": "fragment"
    }
   },
   "outputs": [],
   "source": [
    "from qepy.driver import Driver\n",
    "from qepy.io import QEInput"
   ]
  },
  {
   "cell_type": "markdown",
   "id": "0e807077",
   "metadata": {
    "slideshow": {
     "slide_type": "subslide"
    }
   },
   "source": [
    "#### Make an \"input file\""
   ]
  },
  {
   "cell_type": "code",
   "execution_count": 2,
   "id": "507d81d3",
   "metadata": {
    "slideshow": {
     "slide_type": "fragment"
    }
   },
   "outputs": [],
   "source": [
    "qe_options = {\n",
    "    '&control': {\n",
    "        'calculation': \"'scf'\",\n",
    "        'prefix': \"'Al'\",\n",
    "        'pseudo_dir': \"'./qepy/examples/scf'\",\n",
    "        'restart_mode': \"'from_scratch'\"},\n",
    "    '&system': {\n",
    "        'ibrav' : 0,\n",
    "        'degauss': 0.005,\n",
    "        'ecutwfc': 30,\n",
    "        'nat': 1,\n",
    "        'ntyp': 1,\n",
    "        'occupations': \"'smearing'\"},\n",
    "    'atomic_positions crystal': ['Al    0.0  0.0  0.0'],\n",
    "    'atomic_species': ['Al  26.98 Al_ONCV_PBE-1.2.upf'],\n",
    "    'k_points automatic': ['2 2 2 0 0 0'],\n",
    "    'cell_parameters angstrom':[\n",
    "        '0.     2.025  2.025',\n",
    "        '2.025  0.     2.025',\n",
    "        '2.025  2.025  0.   '],\n",
    "}"
   ]
  },
  {
   "cell_type": "markdown",
   "id": "61483352",
   "metadata": {
    "slideshow": {
     "slide_type": "subslide"
    }
   },
   "source": [
    "#### Initialize QEpy driver"
   ]
  },
  {
   "cell_type": "code",
   "execution_count": 20,
   "id": "24d75a73",
   "metadata": {
    "slideshow": {
     "slide_type": "fragment"
    }
   },
   "outputs": [],
   "source": [
    "driver=Driver(qe_options=qe_options, logfile=True)"
   ]
  },
  {
   "cell_type": "markdown",
   "id": "02038785",
   "metadata": {
    "slideshow": {
     "slide_type": "subslide"
    }
   },
   "source": [
    "#### Run the SCF"
   ]
  },
  {
   "cell_type": "code",
   "execution_count": 21,
   "id": "325c523b",
   "metadata": {
    "slideshow": {
     "slide_type": "fragment"
    }
   },
   "outputs": [
    {
     "data": {
      "text/plain": [
       "-137.92976389456857"
      ]
     },
     "execution_count": 21,
     "metadata": {},
     "output_type": "execute_result"
    }
   ],
   "source": [
    "driver.scf()"
   ]
  },
  {
   "cell_type": "markdown",
   "id": "4a7e942f",
   "metadata": {
    "slideshow": {
     "slide_type": "fragment"
    }
   },
   "source": [
    "#### Extract information from driver"
   ]
  },
  {
   "cell_type": "code",
   "execution_count": 22,
   "id": "905a3bcb",
   "metadata": {
    "slideshow": {
     "slide_type": "fragment"
    }
   },
   "outputs": [
    {
     "data": {
      "text/plain": [
       "7.736788269659623e-08"
      ]
     },
     "execution_count": 22,
     "metadata": {},
     "output_type": "execute_result"
    }
   ],
   "source": [
    "driver.get_scf_error()"
   ]
  },
  {
   "cell_type": "markdown",
   "id": "d2e61632",
   "metadata": {
    "slideshow": {
     "slide_type": "subslide"
    }
   },
   "source": [
    "#### ...even have access to density and wavefunctions!"
   ]
  },
  {
   "cell_type": "code",
   "execution_count": 23,
   "id": "9950402d",
   "metadata": {
    "slideshow": {
     "slide_type": "fragment"
    }
   },
   "outputs": [],
   "source": [
    "rho=driver.get_density()\n",
    "nr=driver.get_number_of_grid_points()"
   ]
  },
  {
   "cell_type": "markdown",
   "id": "97322a4e",
   "metadata": {
    "slideshow": {
     "slide_type": "fragment"
    }
   },
   "source": [
    "#### Let's reshape the density to something like `rho[x,y,z]`"
   ]
  },
  {
   "cell_type": "code",
   "execution_count": 24,
   "id": "9f797f76",
   "metadata": {
    "slideshow": {
     "slide_type": "fragment"
    }
   },
   "outputs": [],
   "source": [
    "rho_new=rho.reshape(nr,order='F')"
   ]
  },
  {
   "cell_type": "markdown",
   "id": "4da237fc",
   "metadata": {
    "slideshow": {
     "slide_type": "fragment"
    }
   },
   "source": [
    "Be mindful, Quantum ESPRESSO is coded in Fortran"
   ]
  },
  {
   "cell_type": "markdown",
   "id": "6e29ce72",
   "metadata": {
    "slideshow": {
     "slide_type": "subslide"
    }
   },
   "source": [
    "#### Let's plot the density along the $z$ axis"
   ]
  },
  {
   "cell_type": "code",
   "execution_count": 25,
   "id": "b69c4e7a",
   "metadata": {
    "slideshow": {
     "slide_type": "fragment"
    }
   },
   "outputs": [
    {
     "data": {
      "image/png": "[encoded data removed]",
      "text/plain": [
       "<Figure size 432x288 with 1 Axes>"
      ]
     },
     "metadata": {
      "needs_background": "light"
     },
     "output_type": "display_data"
    }
   ],
   "source": [
    "import matplotlib.pyplot as plt\n",
    "plt.plot(rho_new[0,10,:])\n",
    "plt.title('KS-DFT electron density');"
   ]
  },
  {
   "cell_type": "markdown",
   "id": "0b8d01c6",
   "metadata": {
    "slideshow": {
     "slide_type": "subslide"
    }
   },
   "source": [
    "#### Cleanup driver\n",
    "Needed to reset the memory to be able to create other drivers (if needed)"
   ]
  },
  {
   "cell_type": "code",
   "execution_count": 26,
   "id": "160a84ba",
   "metadata": {
    "slideshow": {
     "slide_type": "fragment"
    }
   },
   "outputs": [],
   "source": [
    "driver.stop()"
   ]
  },
  {
   "cell_type": "markdown",
   "id": "14d3c713",
   "metadata": {
    "slideshow": {
     "slide_type": "slide"
    }
   },
   "source": [
    "# Big Challenge\n",
    "- Plot energy vs lattice constant for bulk Al (bcc or fcc) with QEpy\n",
    "- Use the notebook `qepy.ipynb`\n",
    "- Port to colab...etc\n",
    "- Be mindful of the computational scaling of KS-DFT compared to OF-DFT"
   ]
  },
  {
   "cell_type": "markdown",
   "id": "6c83f706",
   "metadata": {
    "slideshow": {
     "slide_type": "slide"
    }
   },
   "source": [
    "# Final challenge: Coding new DFT methods\n",
    "Coding new DFT functionals in DFTpy and QEpy is barrierless"
   ]
  },
  {
   "cell_type": "markdown",
   "id": "13eccc2a",
   "metadata": {
    "slideshow": {
     "slide_type": "fragment"
    }
   },
   "source": [
    "#### DFTpy\n",
    "- define new `Functional`\n",
    "- add it to the `TotalFunctional`"
   ]
  },
  {
   "cell_type": "markdown",
   "id": "427d901b",
   "metadata": {
    "slideshow": {
     "slide_type": "fragment"
    }
   },
   "source": [
    "#### QEpy\n",
    "- define new potential as a function of the density\n",
    "- run SCF in a sequential way rather than in one step with `driver.scf()`"
   ]
  },
  {
   "cell_type": "markdown",
   "id": "9147c322",
   "metadata": {
    "slideshow": {
     "slide_type": "subslide"
    }
   },
   "source": [
    "# First: write down correct formulas\n",
    "####  Dirac's exchange\n",
    "The energy functional is:\n",
    "$$E_x[n]=-\\frac{3}{4}\\left(\\frac{3}{\\pi}\\right)^{1/3}\\int n^{4/3}(\\mathbf{r}) d \\mathbf{r}$$\n",
    "\n",
    "The potential is:\n",
    "$$v_x(\\mathbf{r})=-\\left(\\frac{3}{\\pi}\\right)^{1/3}n^{1/3}(\\mathbf{r})$$"
   ]
  },
  {
   "cell_type": "markdown",
   "id": "9d5f6c38",
   "metadata": {
    "slideshow": {
     "slide_type": "slide"
    }
   },
   "source": [
    "# Dirac exchange in DFTpy\n",
    "We need to code a new `Functional`"
   ]
  },
  {
   "cell_type": "code",
   "execution_count": 27,
   "id": "43fe0a9c",
   "metadata": {
    "slideshow": {
     "slide_type": "fragment"
    }
   },
   "outputs": [],
   "source": [
    "from dftpy.functional.abstract_functional import AbstractFunctional\n",
    "from dftpy.functional.functional_output import FunctionalOutput\n",
    "import numpy as np\n",
    "\n",
    "class DiracExchange(AbstractFunctional):\n",
    "    def __init__(self):\n",
    "        self.type = 'x'\n",
    "        self.name = 'Dirac Exchange'\n",
    "    def compute(self, rho,**kwargs):\n",
    "        v_of_r = -rho**(1.0/3.0)*(3.0/np.pi)**(1.0/3.0) # put any potential you like here!!!\n",
    "        e=(v_of_r*rho).integral()*(3.0/4.0)             # put corresponding energy here!\n",
    "        functional=FunctionalOutput(name=\"Exchange\", potential=v_of_r, energy=e)\n",
    "        return functional"
   ]
  },
  {
   "cell_type": "markdown",
   "id": "2aa86199",
   "metadata": {
    "slideshow": {
     "slide_type": "subslide"
    }
   },
   "source": [
    "# Let's try our new Dirac exchange\n",
    "#### Instance the classes"
   ]
  },
  {
   "cell_type": "code",
   "execution_count": 28,
   "id": "47bdea1d",
   "metadata": {
    "slideshow": {
     "slide_type": "fragment"
    }
   },
   "outputs": [],
   "source": [
    "DIRAC = DiracExchange()"
   ]
  },
  {
   "cell_type": "code",
   "execution_count": 29,
   "id": "5d189ecc",
   "metadata": {
    "slideshow": {
     "slide_type": "fragment"
    }
   },
   "outputs": [],
   "source": [
    "evaluator = TotalFunctional(KE=KE, X=DIRAC, HARTREE=HARTREE, PSEUDO=PSEUDO)"
   ]
  },
  {
   "cell_type": "markdown",
   "id": "9fa91a94",
   "metadata": {
    "slideshow": {
     "slide_type": "subslide"
    }
   },
   "source": [
    "#### Run the optimization"
   ]
  },
  {
   "cell_type": "code",
   "execution_count": 30,
   "id": "e5852700",
   "metadata": {
    "slideshow": {
     "slide_type": "fragment"
    }
   },
   "outputs": [
    {
     "name": "stdout",
     "output_type": "stream",
     "text": [
      "Step    Energy(a.u.)            dE              dP              Nd      Nls     Time(s)         \n",
      "0       3.224506810783E+00      3.224507E+00    7.877088E-01    1       1       5.972385E-03    \n",
      "1       3.042835087352E+00      -1.816717E-01   6.974059E-02    2       1       2.020335E-02    \n",
      "2       3.035290456562E+00      -7.544631E-03   4.685543E-03    7       1       4.938579E-02    \n",
      "3       3.035053841421E+00      -2.366151E-04   3.518829E-04    5       1       6.948233E-02    \n",
      "4       3.035020223496E+00      -3.361793E-05   3.420774E-05    6       1       8.754945E-02    \n",
      "#### Density Optimization Converged ####\n",
      "Chemical potential (a.u.): 0.3522365615658572\n",
      "Chemical potential (eV)  : 9.584844134097555\n"
     ]
    }
   ],
   "source": [
    "optimization_options = {'econv' : 1e-3*ions.nat}\n",
    "opt = Optimization(EnergyEvaluator=evaluator, optimization_options = optimization_options,\n",
    "        optimization_method = 'TN')\n",
    "rho = opt.optimize_rho(guess_rho=rho_ini)"
   ]
  },
  {
   "cell_type": "markdown",
   "id": "dd8a3956",
   "metadata": {
    "slideshow": {
     "slide_type": "slide"
    }
   },
   "source": [
    "# Dirac exchange in QEpy\n",
    "- We need to run the SCF iteratively (cannot use `driver.scf`)\n",
    "- We need to provide an additional external potential with Dirac's exchange"
   ]
  },
  {
   "cell_type": "markdown",
   "id": "a2b3728f",
   "metadata": {
    "slideshow": {
     "slide_type": "subslide"
    }
   },
   "source": [
    "#### Initialize the QEpy driver - this time with iterative SCF"
   ]
  },
  {
   "cell_type": "code",
   "execution_count": 32,
   "id": "b61d34f7",
   "metadata": {
    "slideshow": {
     "slide_type": "fragment"
    }
   },
   "outputs": [],
   "source": [
    "driver=Driver(qe_options=qe_options, iterative = True, logfile=True)"
   ]
  },
  {
   "cell_type": "markdown",
   "id": "947c3a80",
   "metadata": {
    "slideshow": {
     "slide_type": "subslide"
    }
   },
   "source": [
    "#### Run the SCF with a `for` loop"
   ]
  },
  {
   "cell_type": "code",
   "execution_count": 33,
   "id": "826e50b8",
   "metadata": {
    "slideshow": {
     "slide_type": "fragment"
    }
   },
   "outputs": [
    {
     "name": "stdout",
     "output_type": "stream",
     "text": [
      "It:  0  - Conv:  0.08341145781585793\n",
      "It:  1  - Conv:  0.0019789534451909166\n",
      "It:  2  - Conv:  4.394904164516504e-05\n",
      "It:  3  - Conv:  6.727745255482617e-08\n"
     ]
    }
   ],
   "source": [
    "for i in range(60):\n",
    "    driver.diagonalize()\n",
    "    driver.mix()\n",
    "    converged = driver.check_convergence()\n",
    "    print ('It: ',i,' - Conv: ', driver.get_scf_error())\n",
    "    if converged : break"
   ]
  },
  {
   "cell_type": "markdown",
   "id": "187ebc3e",
   "metadata": {
    "slideshow": {
     "slide_type": "subslide"
    }
   },
   "source": [
    "#### Print the total electronic energy"
   ]
  },
  {
   "cell_type": "code",
   "execution_count": 34,
   "id": "fb87040b",
   "metadata": {
    "slideshow": {
     "slide_type": "fragment"
    }
   },
   "outputs": [
    {
     "data": {
      "text/plain": [
       "-137.92976389644423"
      ]
     },
     "execution_count": 34,
     "metadata": {},
     "output_type": "execute_result"
    }
   ],
   "source": [
    "driver.get_energy()"
   ]
  },
  {
   "cell_type": "code",
   "execution_count": 35,
   "id": "fd6345b0",
   "metadata": {},
   "outputs": [
    {
     "data": {
      "text/plain": [
       "-137.92976389644423"
      ]
     },
     "execution_count": 35,
     "metadata": {},
     "output_type": "execute_result"
    }
   ],
   "source": [
    "driver.embed.etotal"
   ]
  },
  {
   "cell_type": "markdown",
   "id": "cb173270",
   "metadata": {
    "slideshow": {
     "slide_type": "fragment"
    }
   },
   "source": [
    "#### What xc functional have we been using?\n",
    "- This was automatically selected by Quanrum ESPRESSO from the pseudopotential"
   ]
  },
  {
   "cell_type": "code",
   "execution_count": 36,
   "id": "f9c190d8",
   "metadata": {
    "slideshow": {
     "slide_type": "fragment"
    }
   },
   "outputs": [
    {
     "data": {
      "text/plain": [
       "'PBE               '"
      ]
     },
     "execution_count": 36,
     "metadata": {},
     "output_type": "execute_result"
    }
   ],
   "source": [
    "driver.get_xc_functional()"
   ]
  },
  {
   "cell_type": "markdown",
   "id": "4d5f4b87",
   "metadata": {
    "slideshow": {
     "slide_type": "fragment"
    }
   },
   "source": [
    "#### Close driver"
   ]
  },
  {
   "cell_type": "code",
   "execution_count": 37,
   "id": "0dde084c",
   "metadata": {
    "slideshow": {
     "slide_type": "fragment"
    }
   },
   "outputs": [],
   "source": [
    "driver.stop()"
   ]
  },
  {
   "cell_type": "markdown",
   "id": "f9f27b36",
   "metadata": {
    "slideshow": {
     "slide_type": "fragment"
    }
   },
   "source": [
    "#### Let's first make a function for $E_x[n]$"
   ]
  },
  {
   "cell_type": "code",
   "execution_count": 6,
   "id": "e3a20728",
   "metadata": {
    "slideshow": {
     "slide_type": "fragment"
    }
   },
   "outputs": [],
   "source": [
    "import numpy as np\n",
    "def dirac_x(rho,dV):\n",
    "    v_of_r = -rho**(1.0/3.0)*(3.0/np.pi)**(1.0/3.0) # put any potential you like here!!!\n",
    "    e=np.sum((v_of_r*rho))*(3.0/4.0)*dV             # put corresponding energy here!\n",
    "    return v_of_r*2,e*2\n",
    "# x 2 is for converting Ha to Ry, units used by Quantum ESPRESSO"
   ]
  },
  {
   "cell_type": "markdown",
   "id": "7290b224",
   "metadata": {
    "slideshow": {
     "slide_type": "subslide"
    }
   },
   "source": [
    "#### Adding a new exchange-correlation functional"
   ]
  },
  {
   "cell_type": "code",
   "execution_count": 14,
   "id": "ca4df4f1",
   "metadata": {
    "slideshow": {
     "slide_type": "fragment"
    }
   },
   "outputs": [],
   "source": [
    "driver=Driver(qe_options=qe_options, iterative = True, logfile=True)"
   ]
  },
  {
   "cell_type": "markdown",
   "id": "7b347b52",
   "metadata": {
    "slideshow": {
     "slide_type": "subslide"
    }
   },
   "source": [
    "#### Notice the `set_external_potential` method\n",
    "- extpot is a `numpy.Array` of same shape as the density"
   ]
  },
  {
   "cell_type": "code",
   "execution_count": 15,
   "id": "c868fc5f",
   "metadata": {
    "slideshow": {
     "slide_type": "fragment"
    }
   },
   "outputs": [
    {
     "name": "stdout",
     "output_type": "stream",
     "text": [
      "It:  0  - Conv:  0.09410745676994019\n",
      "It:  1  - Conv:  0.001770903984903537\n",
      "It:  2  - Conv:  3.961817591110266e-05\n",
      "It:  3  - Conv:  7.533957536382877e-08\n"
     ]
    }
   ],
   "source": [
    "for i in range(60):\n",
    "    nr=driver.get_number_of_grid_points()\n",
    "    nnr=np.prod(nr)\n",
    "    l=driver.get_ions_lattice()\n",
    "    V=np.dot(l[0],np.cross(l[1],l[2]))\n",
    "    dV=V/nnr\n",
    "    extpot, ex = dirac_x(driver.get_density(),dV)\n",
    "    driver.set_external_potential(potential=extpot, extene=ex, exttype='100')\n",
    "    driver.diagonalize()\n",
    "    driver.mix()\n",
    "    converged = driver.check_convergence()\n",
    "    print ('It: ',i,' - Conv: ', driver.get_scf_error())\n",
    "    if converged : break\n"
   ]
  },
  {
   "cell_type": "code",
   "execution_count": 23,
   "id": "cfc454bc",
   "metadata": {},
   "outputs": [
    {
     "name": "stdout",
     "output_type": "stream",
     "text": [
      "The final exchange energy:\n"
     ]
    },
    {
     "data": {
      "text/plain": [
       "-13.700091576236105"
      ]
     },
     "execution_count": 23,
     "metadata": {},
     "output_type": "execute_result"
    }
   ],
   "source": [
    "print('The final exchange energy:')\n",
    "ex"
   ]
  },
  {
   "cell_type": "code",
   "execution_count": 17,
   "id": "f227b043",
   "metadata": {},
   "outputs": [
    {
     "data": {
      "text/plain": [
       "-136.16238054327627"
      ]
     },
     "execution_count": 17,
     "metadata": {},
     "output_type": "execute_result"
    }
   ],
   "source": [
    "driver.get_energy()"
   ]
  },
  {
   "cell_type": "markdown",
   "id": "a5089d1d",
   "metadata": {
    "slideshow": {
     "slide_type": "subslide"
    }
   },
   "source": [
    "#### `set_external_potential` method `exttype` options\n",
    "<table>\n",
    "  <tr>\n",
    "    <th>exttype</th>\n",
    "    <th>term replaced in $v_s(\\mathbf{r})$</th>\n",
    "  </tr>\n",
    "  <tr>\n",
    "    <td>000</td>\n",
    "    <td>external potential</td>\n",
    "  </tr>\n",
    "  <tr>\n",
    "    <td>001</td>\n",
    "    <td>local pseudopotential</td>\n",
    "  </tr>\n",
    "  <tr>\n",
    "    <td>010</td>\n",
    "    <td>hartree potential</td>\n",
    "  </tr>\n",
    "  <tr>\n",
    "    <td>011</td>\n",
    "    <td>hartree and pseudopotential</td>\n",
    "  </tr>\n",
    "  <tr>\n",
    "    <td>100</td>\n",
    "    <td>exchange-correlation</td>\n",
    "  </tr>\n",
    "  <tr>\n",
    "    <td>101</td>\n",
    "    <td>exchange-correlation and pseudopotential</td>\n",
    "  </tr>\n",
    "  <tr>\n",
    "    <td>110</td>\n",
    "    <td>hartree and exchange-correlation</td>\n",
    "  </tr>\n",
    "  <tr>\n",
    "    <td>111</td>\n",
    "    <td>pseudo+hartree+xc</td>\n",
    "  </tr>\n",
    "</table>    "
   ]
  },
  {
   "cell_type": "code",
   "execution_count": 13,
   "id": "8f48f6ff",
   "metadata": {
    "slideshow": {
     "slide_type": "fragment"
    }
   },
   "outputs": [],
   "source": [
    "driver.stop()"
   ]
  },
  {
   "cell_type": "markdown",
   "id": "f12c2589",
   "metadata": {
    "slideshow": {
     "slide_type": "subslide"
    }
   },
   "source": [
    "# Now implement it yourself on the colab!!\n",
    "- make a new notebook using `qepy.ipynb` as template\n",
    "- consult `LLNL_2022_Lecture_2.ipynb` for details on giving QEpy a custom xc potential\n",
    "- commit to your repo once done"
   ]
  },
  {
   "cell_type": "markdown",
   "id": "ceb95b4b",
   "metadata": {
    "slideshow": {
     "slide_type": "slide"
    }
   },
   "source": [
    "# We are done! Thank you!\n",
    "\n",
    "And a big thanks to PRG's awesome Postdocs and Graduate Students, but especially\n",
    "- Dr. Xuecheng Shao for doing everything, really\n",
    "- Dr. Kaili Jiang, for the TDDFT modules and modularization of DFTpy\n",
    "- Andres Cifuentes for installation and documentation support\n",
    "- Jessica Martinez for documentation support"
   ]
  }
 ],
 "metadata": {
  "celltoolbar": "Slideshow",
  "hide_input": false,
  "kernelspec": {
   "display_name": "Python 3 (ipykernel)",
   "language": "python",
   "name": "python3"
  },
  "language_info": {
   "codemirror_mode": {
    "name": "ipython",
    "version": 3
   },
   "file_extension": ".py",
   "mimetype": "text/x-python",
   "name": "python",
   "nbconvert_exporter": "python",
   "pygments_lexer": "ipython3",
   "version": "3.10.4"
  },
  "rise": {
   "enable_chalkboard": true,
   "theme": "sky"
  }
 },
 "nbformat": 4,
 "nbformat_minor": 5
}
